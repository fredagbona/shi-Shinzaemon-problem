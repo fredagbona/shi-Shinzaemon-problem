{
  "nbformat": 4,
  "nbformat_minor": 0,
  "metadata": {
    "colab": {
      "name": "Soroshi Shinzaemon problem.ipynb",
      "provenance": [],
      "collapsed_sections": [],
      "authorship_tag": "ABX9TyPZGkmA+aQFY8nHMGvQMxMJ",
      "include_colab_link": true
    },
    "kernelspec": {
      "name": "python3",
      "display_name": "Python 3"
    },
    "language_info": {
      "name": "python"
    }
  },
  "cells": [
    {
      "cell_type": "markdown",
      "metadata": {
        "id": "view-in-github",
        "colab_type": "text"
      },
      "source": [
        "<a href=\"https://colab.research.google.com/github/fredagbona/shi-Shinzaemon-problem/blob/main/Soroshi_Shinzaemon_problem.ipynb\" target=\"_parent\"><img src=\"https://colab.research.google.com/assets/colab-badge.svg\" alt=\"Open In Colab\"/></a>"
      ]
    },
    {
      "cell_type": "markdown",
      "source": [
        "[Problem 1] Number of rice grains on day 100"
      ],
      "metadata": {
        "id": "AkUwQMEkc2Fk"
      }
    },
    {
      "cell_type": "code",
      "execution_count": 1,
      "metadata": {
        "colab": {
          "base_uri": "https://localhost:8080/"
        },
        "id": "nPlWtHK2ctNm",
        "outputId": "48120c70-6a3d-4c2a-f1d1-5c988e7faf19"
      },
      "outputs": [
        {
          "output_type": "stream",
          "name": "stdout",
          "text": [
            "-- number of grains on 100th day is: 633825300114114700748351602688\n",
            "\n",
            "\n",
            "100\n",
            "\n",
            "\n",
            "100\n"
          ]
        }
      ],
      "source": [
        "nb_day = 100\n",
        "nb_grains = 0 #number of grains\n",
        "list_day_grains = [] #list number of grains to receive this day \n",
        "list_total_grains = [] #list number total of grains received at this day = list_total_grains[n] = list_total_grains[n-1] + list_day_grains[n] \n",
        "\n",
        "\n",
        "\n",
        "\n",
        "#computing total grains on 100th day\n",
        "for i in range(nb_day - 1):\n",
        "    if i == 0:\n",
        "        nb_grains = 1\n",
        "        list_day_grains.append(nb_grains) #add first riz to the list\n",
        "        list_total_grains.append(nb_grains) #add first riz to the list\n",
        "        \n",
        "    nb_grains *= 2\n",
        "    list_day_grains.append(nb_grains)\n",
        "    list_total_grains.append(list_total_grains[i] + nb_grains)\n",
        "\n",
        "print(\"-- number of grains on {}th day is: {}\".format(nb_day, nb_grains))\n",
        "print(\"\\n\")\n",
        "print(len(list_day_grains))\n",
        "print(\"\\n\")\n",
        "print(len(list_total_grains))"
      ]
    },
    {
      "cell_type": "code",
      "source": [
        "print(\"__list number of grains to receive this day__ \")\n",
        "print(list_day_grains)\n",
        "print(\"\\n\")\n",
        "print(\"__list number total of grains received at this day__ \")\n",
        "print(list_total_grains)"
      ],
      "metadata": {
        "colab": {
          "base_uri": "https://localhost:8080/"
        },
        "id": "zoIkdQxPe43z",
        "outputId": "4d89c96d-9942-4daa-d039-e41171a16cf7"
      },
      "execution_count": 2,
      "outputs": [
        {
          "output_type": "stream",
          "name": "stdout",
          "text": [
            "__list number of grains to receive this day__ \n",
            "[1, 2, 4, 8, 16, 32, 64, 128, 256, 512, 1024, 2048, 4096, 8192, 16384, 32768, 65536, 131072, 262144, 524288, 1048576, 2097152, 4194304, 8388608, 16777216, 33554432, 67108864, 134217728, 268435456, 536870912, 1073741824, 2147483648, 4294967296, 8589934592, 17179869184, 34359738368, 68719476736, 137438953472, 274877906944, 549755813888, 1099511627776, 2199023255552, 4398046511104, 8796093022208, 17592186044416, 35184372088832, 70368744177664, 140737488355328, 281474976710656, 562949953421312, 1125899906842624, 2251799813685248, 4503599627370496, 9007199254740992, 18014398509481984, 36028797018963968, 72057594037927936, 144115188075855872, 288230376151711744, 576460752303423488, 1152921504606846976, 2305843009213693952, 4611686018427387904, 9223372036854775808, 18446744073709551616, 36893488147419103232, 73786976294838206464, 147573952589676412928, 295147905179352825856, 590295810358705651712, 1180591620717411303424, 2361183241434822606848, 4722366482869645213696, 9444732965739290427392, 18889465931478580854784, 37778931862957161709568, 75557863725914323419136, 151115727451828646838272, 302231454903657293676544, 604462909807314587353088, 1208925819614629174706176, 2417851639229258349412352, 4835703278458516698824704, 9671406556917033397649408, 19342813113834066795298816, 38685626227668133590597632, 77371252455336267181195264, 154742504910672534362390528, 309485009821345068724781056, 618970019642690137449562112, 1237940039285380274899124224, 2475880078570760549798248448, 4951760157141521099596496896, 9903520314283042199192993792, 19807040628566084398385987584, 39614081257132168796771975168, 79228162514264337593543950336, 158456325028528675187087900672, 316912650057057350374175801344, 633825300114114700748351602688]\n",
            "\n",
            "\n",
            "__list number total of grains received at this day__ \n",
            "[1, 3, 7, 15, 31, 63, 127, 255, 511, 1023, 2047, 4095, 8191, 16383, 32767, 65535, 131071, 262143, 524287, 1048575, 2097151, 4194303, 8388607, 16777215, 33554431, 67108863, 134217727, 268435455, 536870911, 1073741823, 2147483647, 4294967295, 8589934591, 17179869183, 34359738367, 68719476735, 137438953471, 274877906943, 549755813887, 1099511627775, 2199023255551, 4398046511103, 8796093022207, 17592186044415, 35184372088831, 70368744177663, 140737488355327, 281474976710655, 562949953421311, 1125899906842623, 2251799813685247, 4503599627370495, 9007199254740991, 18014398509481983, 36028797018963967, 72057594037927935, 144115188075855871, 288230376151711743, 576460752303423487, 1152921504606846975, 2305843009213693951, 4611686018427387903, 9223372036854775807, 18446744073709551615, 36893488147419103231, 73786976294838206463, 147573952589676412927, 295147905179352825855, 590295810358705651711, 1180591620717411303423, 2361183241434822606847, 4722366482869645213695, 9444732965739290427391, 18889465931478580854783, 37778931862957161709567, 75557863725914323419135, 151115727451828646838271, 302231454903657293676543, 604462909807314587353087, 1208925819614629174706175, 2417851639229258349412351, 4835703278458516698824703, 9671406556917033397649407, 19342813113834066795298815, 38685626227668133590597631, 77371252455336267181195263, 154742504910672534362390527, 309485009821345068724781055, 618970019642690137449562111, 1237940039285380274899124223, 2475880078570760549798248447, 4951760157141521099596496895, 9903520314283042199192993791, 19807040628566084398385987583, 39614081257132168796771975167, 79228162514264337593543950335, 158456325028528675187087900671, 316912650057057350374175801343, 633825300114114700748351602687, 1267650600228229401496703205375]\n"
          ]
        }
      ]
    },
    {
      "cell_type": "code",
      "source": [
        "import matplotlib.pyplot as plt\n",
        "%matplotlib inline\n",
        "plt.title(\"Sorori Shinzaemon problem\")\n",
        "plt.xlabel(\"number of day\")\n",
        "plt.ylabel(\"number of grains per day\")\n",
        "plt.plot(list_day_grains, \"b:\", label=\"grains to receive this day\")\n",
        "plt.plot(list_total_grains, \"r-\", label=\"total grains received\")\n",
        "plt.legend(loc='upper left')\n",
        "plt.show()"
      ],
      "metadata": {
        "colab": {
          "base_uri": "https://localhost:8080/",
          "height": 295
        },
        "id": "Mjac8R9afFWJ",
        "outputId": "7634e9dc-6351-498c-fd17-45c3eb197d19"
      },
      "execution_count": 3,
      "outputs": [
        {
          "output_type": "display_data",
          "data": {
            "image/png": "[encoded data removed]",
            "text/plain": [
              "<Figure size 432x288 with 1 Axes>"
            ]
          },
          "metadata": {
            "needs_background": "light"
          }
        }
      ]
    },
    {
      "cell_type": "markdown",
      "source": [
        "[Problem 2] Number of rice grains outside of the 100th day"
      ],
      "metadata": {
        "id": "9r2Th8pxfVOY"
      }
    },
    {
      "cell_type": "code",
      "source": [
        "def compute_sorori_shinzaemon(n_days=100):\n",
        "    \n",
        "    \n",
        "    list_n_grains = [] #List of the number of grains to be given in a day\n",
        "    list_total_grains = [] #List of the total number of grains to be received by a certain date\n",
        "    \n",
        "   \n",
        "    for i in range(n_days-1):\n",
        "        if i == 0:\n",
        "           \n",
        "            nb_grains_this_day = 1\n",
        "            nb_total_grains_received = 1\n",
        "            \n",
        "            list_n_grains.append(nb_grains_this_day)\n",
        "            list_total_grains.append(nb_total_grains_received)\n",
        "            \n",
        "        nb_grains_this_day *= 2\n",
        "        nb_total_grains_received += nb_grains_this_day\n",
        "        \n",
        "        list_n_grains.append(nb_grains_this_day)\n",
        "        list_total_grains.append(nb_total_grains_received)  \n",
        "    \n",
        "    print(\"--number of grains to be given the {}th day is: {}\".format(nb_day, nb_grains_this_day))\n",
        "    print(\"\\n\")\n",
        "    print(\"--total number of grains to be given the {}th day is: {}\".format(nb_day, nb_total_grains_received))\n",
        "    print(\"\\n\")\n",
        "    print(\"--list of number of grains to be receive in the {} days is: {}\".format(nb_day, list_n_grains))\n",
        "    print(\"\\n\")\n",
        "    print(\"--list of total number of grains received in the {} days is : {}\".format(nb_day, list_total_grains))\n",
        "    print(\"\\n\")\n",
        "    print(\"\\n\")\n",
        " \n",
        "    \n",
        "    plt.title(\" Shinzaemon problem\")\n",
        "    plt.xlabel(\"number of day\")\n",
        "    plt.ylabel(\"number of grains per day\")\n",
        "    plt.plot(list_n_grains, \"b:\", label=\"grains to receive this day\")\n",
        "    plt.plot(list_total_grains, \"r-\", label=\"total grains received\")\n",
        "    plt.legend(loc='upper left')\n",
        "    plt.show()\n",
        "    pass\n",
        "    return list_n_grains, list_total_grains\n",
        "\n",
        "list_n_grains, list_total_grains = compute_sorori_shinzaemon(n_days=10)"
      ],
      "metadata": {
        "colab": {
          "base_uri": "https://localhost:8080/",
          "height": 533
        },
        "id": "hDnkj3eCfYVf",
        "outputId": "84086fed-f1b1-442b-ff7f-24522cb5e700"
      },
      "execution_count": 5,
      "outputs": [
        {
          "output_type": "stream",
          "name": "stdout",
          "text": [
            "--number of grains to be given the 100th day is: 512\n",
            "\n",
            "\n",
            "--total number of grains to be given the 100th day is: 1023\n",
            "\n",
            "\n",
            "--list of number of grains to be receive in the 100 days is: [1, 2, 4, 8, 16, 32, 64, 128, 256, 512]\n",
            "\n",
            "\n",
            "--list of total number of grains received in the 100 days is : [1, 3, 7, 15, 31, 63, 127, 255, 511, 1023]\n",
            "\n",
            "\n",
            "\n",
            "\n"
          ]
        },
        {
          "output_type": "display_data",
          "data": {
            "image/png": "[encoded data removed]",
            "text/plain": [
              "<Figure size 432x288 with 1 Axes>"
            ]
          },
          "metadata": {
            "needs_background": "light"
          }
        }
      ]
    },
    {
      "cell_type": "markdown",
      "source": [
        "【Problem 3] How many people can live for how many days with the rice we get?"
      ],
      "metadata": {
        "id": "TN1R5i4LgJe6"
      }
    },
    {
      "cell_type": "code",
      "source": [
        "def how_many_days_they_can_live(nb_grains_received=10000, nb_persons=100):\n",
        "  \n",
        "    grains_need_for_one_day = 94033 * nb_persons \n",
        "    nb_days_to_live = nb_grains_received // grains_need_for_one_day\n",
        "    \n",
        "    \n",
        "    print(\"With {} grains of rice, {} persons can live for {} days\".format(nb_grains_received, nb_persons,nb_days_to_live ))\n",
        "    print(\"\\n\")\n",
        "    \n",
        "    pass\n",
        "    return nb_days_to_live\n",
        "    \n",
        "\n",
        "nb_days_to_live = how_many_days_they_can_live(nb_grains_received=40000000, nb_persons=10)"
      ],
      "metadata": {
        "colab": {
          "base_uri": "https://localhost:8080/"
        },
        "id": "SF5IMmA_gKSN",
        "outputId": "e011970a-914c-4a0f-c0e5-db13dc979235"
      },
      "execution_count": 6,
      "outputs": [
        {
          "output_type": "stream",
          "name": "stdout",
          "text": [
            "With 40000000 grains of rice, 10 persons can live for 42 days\n",
            "\n",
            "\n"
          ]
        }
      ]
    },
    {
      "cell_type": "markdown",
      "source": [
        ""
      ],
      "metadata": {
        "id": "jSnyCyiSe9Jt"
      }
    }
  ]
}